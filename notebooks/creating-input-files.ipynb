{
 "cells": [
  {
   "cell_type": "markdown",
   "metadata": {},
   "source": [
    "# creating input files for magphys\n",
    "\n",
    "* 2022-June-03 Implemented galactic extinction correction"
   ]
  },
  {
   "cell_type": "markdown",
   "metadata": {},
   "source": [
    "# CREATING MAGPHYS INPUT FROM JOHN'S FILES\n",
    "\n",
    "* john sent photometry file\n",
    "\n",
    "```\n",
    "I'm not certain who's taking the lead on the SED modeling, but can you\n",
    "take the attached catalog for a test drive? There are three HDUs:\n",
    "\n",
    "ELLIPSE - elliptical surface brightness profiles and aperture photometry\n",
    "TRACTOR - Tractor catalog\n",
    "PARENT - input / parent catalog\n",
    "\n",
    "The data model for the ELLIPSE catalog should be (mostly?)\n",
    "self-documenting, but you should try out the aperture photometry in\n",
    "  FLUX_SB[23,24,25,26]_[FUV,NUV,G,R,Z,W1,W2,W3,W4]\n",
    "  FLUX_IVAR_SB[23,24,25,26]_[FUV,NUV,G,R,Z,W1,W2,W3,W4]\n",
    "\n",
    "and also (for fun) the total / integrated photometry based on fitting\n",
    "the curve of growth in\n",
    "  COG_MTOT_[FUV,NUV,G,R,Z,W1,W2,W3,W4]\n",
    "\n",
    "but I do not have uncertainties for those (model-based) magnitudes just yet.\n",
    "\n",
    "The fluxes and inverse variances, BTW, are in nanomaggies, and\n",
    "negative fluxes should be fine to use since I'm also measuring the\n",
    "inverse variance in the same aperture.\n",
    "\n",
    "Let me know how this goes!\n",
    "\n",
    "```\n",
    "\n",
    "* I downloaded the file into ~/research/Virgo/legacy-phot/virgofilaments-legacyphot.fits\n",
    "\n",
    "* magphys wants the fluxes in Jy, so I will need to convert from nanomaggies to Jy\n",
    "\n",
    "  * star with flux of 1 maggie has AB mag of zero and flux density of 3631 Jy.\n",
    "  https://www.sdss.org/dr15/help/glossary#M\n",
    "  \n",
    "```\n",
    "nanomaggie\n",
    "    A linear unit of flux density equal to 10-9 maggies. A star of brightness 1 nanomaggie has a magnitude of 22.5 in any band, or a flux density of 3.631 × 10-6 Jansky.\n",
    "```\n",
    "\n",
    "  * so I can multiply John's fluxes by 3631e-6 to convert to Jy\n",
    "  \n",
    "* input needed by magphys\n"
   ]
  },
  {
   "cell_type": "code",
   "execution_count": 1,
   "metadata": {},
   "outputs": [],
   "source": [
    "from astropy.io import fits\n",
    "from astropy.table import Table\n",
    "import os\n",
    "from astropy import units as u"
   ]
  },
  {
   "cell_type": "code",
   "execution_count": 2,
   "metadata": {},
   "outputs": [],
   "source": [
    "os.chdir('/home/rfinn/research/Virgo/legacy-phot/')\n",
    "photfile = '/home/rfinn/research/Virgo/legacy-phot/virgofilaments-legacyphot.fits'\n",
    "ephot = Table.read(photfile,2)\n",
    "tractor_phot = Table.read(photfile,2)\n",
    "parent_phot = Table.read(photfile,3)"
   ]
  },
  {
   "cell_type": "code",
   "execution_count": null,
   "metadata": {},
   "outputs": [],
   "source": []
  },
  {
   "cell_type": "code",
   "execution_count": 5,
   "metadata": {},
   "outputs": [
    {
     "name": "stdout",
     "output_type": "stream",
     "text": [
      "COG_MTOT_R = -1 for NGC3348 but found FLUX_SB26_R 49286.78515625\n",
      "COG_MTOT_R = -1 for NGC2273B but found FLUX_SB26_R 74048.2109375\n",
      "COG_MTOT_R = -1 for PGC2581064 but found FLUX_SB26_R 238.4237518310547\n",
      "COG_MTOT_R = -1 for IC0694 but found FLUX_SB26_R -8165.50048828125\n"
     ]
    },
    {
     "name": "stderr",
     "output_type": "stream",
     "text": [
      "/home/rfinn/github/virgoseds/python/legacy2magphys.py:166: RuntimeWarning: invalid value encountered in log10\n",
      "  rmag_tot[i] = 22.5 - 2.5*np.log10(ephot[scaling_col][i])\n"
     ]
    },
    {
     "name": "stdout",
     "output_type": "stream",
     "text": [
      "WARNING: no viable r-band magnitude for 876 (PGC028043)\n",
      "COG_MTOT_R = -1 for NGC5473 but found FLUX_SB26_R 28758.529296875\n",
      "WARNING: no viable r-band magnitude for 1260 (PGC052336)\n",
      "COG_MTOT_R = -1 for UGC06773 but found FLUX_SB26_R 125495.46875\n",
      "COG_MTOT_R = -1 for NGC5795 but found FLUX_SB26_R 5804.775390625\n",
      "COG_MTOT_R = -1 for SDSSJ130450.58+490709.8 but found FLUX_SB26_R -1195.2650146484375\n",
      "WARNING: no viable r-band magnitude for 1411 (UGC09508)\n",
      "COG_MTOT_R = -1 for WSRT-CVN13 but found FLUX_SB26_R 14272.9990234375\n",
      "COG_MTOT_R = -1 for NGC3430 but found FLUX_SB26_R 28789.6328125\n",
      "COG_MTOT_R = -1 for NGC6389 but found FLUX_SB26_R -2169.26318359375\n",
      "WARNING: no viable r-band magnitude for 4227 (PGC1467048)\n",
      "COG_MTOT_R = -1 for NGC3230 but found FLUX_SB26_R 6821.34375\n",
      "WARNING: no viable r-band magnitude for 5184 (PGC039255)\n",
      "COG_MTOT_R = -1 for NGC4417 but found FLUX_SB23_R\n",
      "COG_MTOT_R = -1 for NGC4492 but found FLUX_SB26_R -1293.864013671875\n",
      "COG_MTOT_R = -1 for AGC208394 but found FLUX_SB26_R -3147.43310546875\n",
      "WARNING: no viable r-band magnitude for 6272 (NGC5690)\n",
      "COG_MTOT_R = -1 for NGC3018 but found FLUX_SB26_R 14908.578125\n"
     ]
    },
    {
     "name": "stderr",
     "output_type": "stream",
     "text": [
      "/home/rfinn/github/virgoseds/python/legacy2magphys.py:170: RuntimeWarning: divide by zero encountered in true_divide\n",
      "  scale_factor = flux_tot_Jy/flux_Jy[:,3]\n",
      "/home/rfinn/github/virgoseds/python/legacy2magphys.py:176: RuntimeWarning: invalid value encountered in multiply\n",
      "  scaled_flux_Jy[i] = flux_Jy[i]*scale_factor[i]\n"
     ]
    }
   ],
   "source": [
    "# using sb of 22 mag/sq arcsec\n",
    "\n",
    "%run ~/github/virgoseds/python/legacy2magphys.py --sbmag 25"
   ]
  },
  {
   "cell_type": "markdown",
   "metadata": {},
   "source": [
    "# moving files to grawp and rerunning with extcorr"
   ]
  },
  {
   "cell_type": "code",
   "execution_count": null,
   "metadata": {},
   "outputs": [],
   "source": [
    "os.system('scp /home/rfinn/research/Virgo/legacy-phot/magphysInput?.dat grawp:research/Virgo/magphysParallel/.')"
   ]
  }
 ],
 "metadata": {
  "kernelspec": {
   "display_name": "Python 3",
   "language": "python",
   "name": "python3"
  },
  "language_info": {
   "codemirror_mode": {
    "name": "ipython",
    "version": 3
   },
   "file_extension": ".py",
   "mimetype": "text/x-python",
   "name": "python",
   "nbconvert_exporter": "python",
   "pygments_lexer": "ipython3",
   "version": "3.7.4"
  }
 },
 "nbformat": 4,
 "nbformat_minor": 2
}
